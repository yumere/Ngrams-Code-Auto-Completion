{
 "cells": [
  {
   "cell_type": "code",
   "execution_count": 1,
   "metadata": {
    "ExecuteTime": {
     "end_time": "2017-08-13T17:58:39.281751Z",
     "start_time": "2017-08-13T17:58:39.230090Z"
    },
    "collapsed": true
   },
   "outputs": [],
   "source": [
    "import collections\n",
    "import sqlite3\n",
    "import os\n",
    "import pickle\n",
    "from tqdm import tqdm_notebook"
   ]
  },
  {
   "cell_type": "code",
   "execution_count": 2,
   "metadata": {
    "ExecuteTime": {
     "end_time": "2017-08-13T17:58:39.864961Z",
     "start_time": "2017-08-13T17:58:39.849421Z"
    }
   },
   "outputs": [
    {
     "name": "stdout",
     "output_type": "stream",
     "text": [
      "['100000_dataset.pkl', '10000_dataset.pkl', '105000_dataset.pkl', '110000_dataset.pkl', '115000_dataset.pkl', '120000_dataset.pkl', '125000_dataset.pkl', '130000_dataset.pkl', '135000_dataset.pkl', '140000_dataset.pkl', '15000_dataset.pkl', '20000_dataset.pkl', '25000_dataset.pkl', '30000_dataset.pkl', '35000_dataset.pkl', '40000_dataset.pkl', '45000_dataset.pkl', '50000_dataset.pkl', '5000_dataset.pkl', '55000_dataset.pkl', '60000_dataset.pkl', '65000_dataset.pkl', '70000_dataset.pkl', '75000_dataset.pkl', '80000_dataset.pkl', '85000_dataset.pkl', '90000_dataset.pkl', '95000_dataset.pkl', 'dataset.pkl']\n"
     ]
    }
   ],
   "source": [
    "files_q = []\n",
    "for root, dirs, files in os.walk(\"results\"):\n",
    "    if files:\n",
    "        files_q += files\n",
    "print(files_q)"
   ]
  },
  {
   "cell_type": "code",
   "execution_count": 3,
   "metadata": {
    "ExecuteTime": {
     "end_time": "2017-08-13T17:58:40.370423Z",
     "start_time": "2017-08-13T17:58:40.364908Z"
    },
    "collapsed": true
   },
   "outputs": [],
   "source": [
    "train_list = ['100000_dataset.pkl', '10000_dataset.pkl', '105000_dataset.pkl', '110000_dataset.pkl', '115000_dataset.pkl', '120000_dataset.pkl', '125000_dataset.pkl', '130000_dataset.pkl', '135000_dataset.pkl', '140000_dataset.pkl', '15000_dataset.pkl', '20000_dataset.pkl', '25000_dataset.pkl', '30000_dataset.pkl', '35000_dataset.pkl', '40000_dataset.pkl', '45000_dataset.pkl', '50000_dataset.pkl', '5000_dataset.pkl', '55000_dataset.pkl']\n",
    "test_list = ['60000_dataset.pkl', '65000_dataset.pkl', '70000_dataset.pkl', '75000_dataset.pkl', '80000_dataset.pkl', '85000_dataset.pkl', '90000_dataset.pkl', '95000_dataset.pkl', 'dataset.pkl']"
   ]
  },
  {
   "cell_type": "markdown",
   "metadata": {},
   "source": [
    "# Train Data"
   ]
  },
  {
   "cell_type": "code",
   "execution_count": null,
   "metadata": {
    "ExecuteTime": {
     "end_time": "2017-08-13T16:54:10.703559Z",
     "start_time": "2017-08-13T16:49:48.731809Z"
    }
   },
   "outputs": [],
   "source": [
    "dataset_train = collections.Counter()\n",
    "for filename in tqdm_notebook(train_list, desc=\"Files\"):\n",
    "    with open(\"results/{}\".format(filename), \"rb\") as f:\n",
    "        data = pickle.loads(f.read())\n",
    "        dataset_train.update(data)"
   ]
  },
  {
   "cell_type": "code",
   "execution_count": null,
   "metadata": {
    "ExecuteTime": {
     "end_time": "2017-08-13T16:57:25.328493Z",
     "start_time": "2017-08-13T16:55:47.202947Z"
    }
   },
   "outputs": [],
   "source": [
    "inputs_train = []\n",
    "for (k, v), c in tqdm_notebook(dataset_train.items(), desc=\"Data\"):\n",
    "    inputs_train.append((str(k), str(v), c))"
   ]
  },
  {
   "cell_type": "code",
   "execution_count": null,
   "metadata": {
    "ExecuteTime": {
     "end_time": "2017-08-13T17:49:12.859859Z",
     "start_time": "2017-08-13T16:58:05.257021Z"
    },
    "collapsed": true
   },
   "outputs": [],
   "source": [
    "conn = sqlite3.connect(\"dataset.sqlite\")\n",
    "cursor = conn.cursor()\n",
    "cursor.executemany(\"INSERT INTO train_data VALUES(?, ?, ?)\", inputs_train)\n",
    "conn.commit()\n",
    "conn.close()"
   ]
  },
  {
   "cell_type": "markdown",
   "metadata": {},
   "source": [
    "# Test Data"
   ]
  },
  {
   "cell_type": "code",
   "execution_count": 4,
   "metadata": {
    "ExecuteTime": {
     "end_time": "2017-08-13T18:00:24.780902Z",
     "start_time": "2017-08-13T17:58:44.276399Z"
    }
   },
   "outputs": [
    {
     "data": {
      "application/vnd.jupyter.widget-view+json": {
       "model_id": "b3c04dc1182d4c88ad23a73908c07763"
      }
     },
     "metadata": {},
     "output_type": "display_data"
    },
    {
     "name": "stdout",
     "output_type": "stream",
     "text": [
      "\n"
     ]
    }
   ],
   "source": [
    "dataset_test = collections.Counter()\n",
    "for filename in tqdm_notebook(test_list, desc=\"Files\"):\n",
    "    with open(\"results/{}\".format(filename), \"rb\") as f:\n",
    "        data = pickle.loads(f.read())\n",
    "        dataset_test.update(data)"
   ]
  },
  {
   "cell_type": "code",
   "execution_count": 5,
   "metadata": {
    "ExecuteTime": {
     "end_time": "2017-08-13T18:01:12.765372Z",
     "start_time": "2017-08-13T18:00:24.783910Z"
    }
   },
   "outputs": [
    {
     "data": {
      "application/vnd.jupyter.widget-view+json": {
       "model_id": "e2d057f6c07a4c8ba42105b94b17be86"
      }
     },
     "metadata": {},
     "output_type": "display_data"
    },
    {
     "name": "stdout",
     "output_type": "stream",
     "text": [
      "\n"
     ]
    }
   ],
   "source": [
    "inputs_test = []\n",
    "for (k, v), c in tqdm_notebook(dataset_test.items(), desc=\"Data\"):\n",
    "    inputs_test.append((str(k), str(v), c))"
   ]
  },
  {
   "cell_type": "code",
   "execution_count": 6,
   "metadata": {
    "ExecuteTime": {
     "end_time": "2017-08-13T18:28:45.420732Z",
     "start_time": "2017-08-13T18:01:19.790477Z"
    },
    "collapsed": true
   },
   "outputs": [],
   "source": [
    "conn = sqlite3.connect(\"dataset.sqlite\")\n",
    "cursor = conn.cursor()\n",
    "cursor.executemany(\"INSERT INTO test_data VALUES(?, ?, ?)\", inputs_test)\n",
    "conn.commit()\n",
    "conn.close()"
   ]
  },
  {
   "cell_type": "code",
   "execution_count": null,
   "metadata": {
    "collapsed": true
   },
   "outputs": [],
   "source": []
  }
 ],
 "metadata": {
  "kernelspec": {
   "display_name": "Python 3",
   "language": "python",
   "name": "python3"
  },
  "language_info": {
   "codemirror_mode": {
    "name": "ipython",
    "version": 3
   },
   "file_extension": ".py",
   "mimetype": "text/x-python",
   "name": "python",
   "nbconvert_exporter": "python",
   "pygments_lexer": "ipython3",
   "version": "3.5.3"
  }
 },
 "nbformat": 4,
 "nbformat_minor": 2
}
